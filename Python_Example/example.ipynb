{
 "cells": [
  {
   "cell_type": "code",
   "execution_count": 1,
   "id": "11274e6b",
   "metadata": {},
   "outputs": [
    {
     "name": "stdout",
     "output_type": "stream",
     "text": [
      "xbest: [-123.     0.5   -1. ]\n",
      "fbest: -61.5\n",
      "ncall: 100 ncloc: 27\n",
      "exit flag: StopNfExceeded\n"
     ]
    }
   ],
   "source": [
    "import numpy as np\n",
    "import rust_mcs_python\n",
    "\n",
    "# 1) Choose N [1, 15]\n",
    "N = 3\n",
    "\n",
    "# 2) Define your Python objective function: takes a 1D numpy.array of length N, returns a float\n",
    "def my_obj_fn(x: np.ndarray) -> float:\n",
    "    return x[0]*x[1]\n",
    "\n",
    "# 3) Build u (N), v(N) and a Hessian matrix (N×N)\n",
    "u = np.array([-123.0, -11.0, -1.0], dtype=np.float64)\n",
    "v = np.array([2.0, 0.5, 0.0], dtype=np.float64)\n",
    "hess = np.ones([N, N], dtype=np.float64)\n",
    "\n",
    "# 4) Other algorithmic parameters:\n",
    "nsweeps = 10   # number of sweeps\n",
    "nf      = 100  # max number of function evaluations\n",
    "local   = 5    # local search parameter (0 - no local search)\n",
    "gamma   = 1e-12  # step‐length parameter\n",
    "smax    = 20   # number of levels used\n",
    "\n",
    "xbest_arr, fbest, ncall, ncloc, exit_flag = rust_mcs_python.mcs_py(\n",
    "    N,             # n\n",
    "    my_obj_fn,     # Python‐callable\n",
    "    u,             # NumPy array of length N\n",
    "    v,             # NumPy array of length N\n",
    "    nsweeps,       # usize\n",
    "    nf,            # usize\n",
    "    local,         # usize\n",
    "    gamma,         # float\n",
    "    smax,          # usize\n",
    "    hess           # NumPy 2D array of shape (N,N)\n",
    ")\n",
    "\n",
    "print(\"xbest:\", xbest_arr)\n",
    "print(\"fbest:\", fbest)\n",
    "print(\"ncall:\", ncall, \"ncloc:\", ncloc)\n",
    "print(\"exit flag:\", exit_flag)"
   ]
  },
  {
   "cell_type": "code",
   "execution_count": null,
   "id": "d9e68549",
   "metadata": {},
   "outputs": [],
   "source": []
  }
 ],
 "metadata": {
  "kernelspec": {
   "display_name": "rust_mcs_python",
   "language": "python",
   "name": "python3"
  },
  "language_info": {
   "codemirror_mode": {
    "name": "ipython",
    "version": 3
   },
   "file_extension": ".py",
   "mimetype": "text/x-python",
   "name": "python",
   "nbconvert_exporter": "python",
   "pygments_lexer": "ipython3",
   "version": "3.13.2"
  }
 },
 "nbformat": 4,
 "nbformat_minor": 5
}
